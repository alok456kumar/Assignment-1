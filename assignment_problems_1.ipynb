{
 "cells": [
  {
   "cell_type": "code",
   "execution_count": 2,
   "id": "d1bb1403-cbaf-428e-b3ea-f8e0a316fa95",
   "metadata": {},
   "outputs": [],
   "source": [
    "# Assignent - 1"
   ]
  },
  {
   "cell_type": "code",
   "execution_count": 4,
   "id": "0b97d49c-9ed9-4b7b-bb96-ccde9d5fa5c7",
   "metadata": {},
   "outputs": [],
   "source": [
    "# Q1."
   ]
  },
  {
   "cell_type": "code",
   "execution_count": 11,
   "id": "15d6013d-2c75-4569-876b-033bf7343124",
   "metadata": {},
   "outputs": [
    {
     "name": "stdout",
     "output_type": "stream",
     "text": [
      "Alok\n"
     ]
    }
   ],
   "source": [
    "# 1\n",
    "string = \"Alok\"\n",
    "print(string)"
   ]
  },
  {
   "cell_type": "code",
   "execution_count": 10,
   "id": "806296eb-2948-4c92-8810-b65b7686c2af",
   "metadata": {},
   "outputs": [
    {
     "name": "stdout",
     "output_type": "stream",
     "text": [
      "[3, 5, 7, 'anant', 4.5, 'kushagra']\n"
     ]
    }
   ],
   "source": [
    "# 2\n",
    "list = [3,5,7, 'anant' , 4.5 ,'kushagra']\n",
    "print(list)"
   ]
  },
  {
   "cell_type": "code",
   "execution_count": 9,
   "id": "447eb07c-f7ad-4f09-9568-b9445aeb8842",
   "metadata": {},
   "outputs": [
    {
     "name": "stdout",
     "output_type": "stream",
     "text": [
      "7.8\n"
     ]
    }
   ],
   "source": [
    "# 3\n",
    "float = 7.8 \n",
    "print(float)"
   ]
  },
  {
   "cell_type": "code",
   "execution_count": 13,
   "id": "3f31de56-bb1c-4a99-b67f-e8af356a907d",
   "metadata": {},
   "outputs": [
    {
     "name": "stdout",
     "output_type": "stream",
     "text": [
      "(4, 7, 8, 'vishnu')\n"
     ]
    }
   ],
   "source": [
    "# 4\n",
    "tuple = (4,7,8, 'vishnu')\n",
    "print(tuple)"
   ]
  },
  {
   "cell_type": "code",
   "execution_count": null,
   "id": "d9832aac-bf83-463d-abf9-1d0562aa7a47",
   "metadata": {},
   "outputs": [],
   "source": []
  },
  {
   "cell_type": "code",
   "execution_count": 14,
   "id": "616848f0-a9dc-4a7c-ade9-0053c0721caa",
   "metadata": {},
   "outputs": [],
   "source": [
    "# Q2."
   ]
  },
  {
   "cell_type": "code",
   "execution_count": 15,
   "id": "c5fd4038-260f-4a6f-a7c1-2fd9005826be",
   "metadata": {},
   "outputs": [
    {
     "data": {
      "text/plain": [
       "str"
      ]
     },
     "execution_count": 15,
     "metadata": {},
     "output_type": "execute_result"
    }
   ],
   "source": [
    "# 1\n",
    "var1 = ''\n",
    "type(var1)"
   ]
  },
  {
   "cell_type": "code",
   "execution_count": 16,
   "id": "b0230d4d-085c-47f9-8f85-9ebbfc5ffa81",
   "metadata": {},
   "outputs": [
    {
     "data": {
      "text/plain": [
       "str"
      ]
     },
     "execution_count": 16,
     "metadata": {},
     "output_type": "execute_result"
    }
   ],
   "source": [
    "# 2\n",
    "var2 = '[DS ,ML ,Python]'\n",
    "type(var2)"
   ]
  },
  {
   "cell_type": "code",
   "execution_count": 4,
   "id": "2f33b53d-22f5-4081-9d08-2e2c7da691c6",
   "metadata": {},
   "outputs": [
    {
     "name": "stdout",
     "output_type": "stream",
     "text": [
      "['DS', 'ML', 'Python']\n"
     ]
    }
   ],
   "source": [
    "# 3\n",
    "var3 = ['DS' , 'ML' , 'Python']\n",
    "type(var3)\n",
    "print(var3)"
   ]
  },
  {
   "cell_type": "code",
   "execution_count": 18,
   "id": "fab02ae9-0123-409c-940b-6a77a296d90c",
   "metadata": {},
   "outputs": [
    {
     "data": {
      "text/plain": [
       "int"
      ]
     },
     "execution_count": 18,
     "metadata": {},
     "output_type": "execute_result"
    }
   ],
   "source": [
    "# 4\n",
    "var4 = 1\n",
    "type(var4)"
   ]
  },
  {
   "cell_type": "code",
   "execution_count": 20,
   "id": "ec8382d5-9ac8-493e-9afe-ba478b0b0739",
   "metadata": {},
   "outputs": [],
   "source": [
    "# Q3."
   ]
  },
  {
   "cell_type": "markdown",
   "id": "1ca5225b-22cf-4c65-8ae6-35d9f1c704d7",
   "metadata": {},
   "source": [
    "# 1\n",
    "\"/\" -: This is the division operator in the \n",
    "python which is used to perform mathematical division operations between numbers.\n",
    "Ex -:"
   ]
  },
  {
   "cell_type": "code",
   "execution_count": 23,
   "id": "fe6c4849-565b-4485-b6ad-374fc51bd172",
   "metadata": {},
   "outputs": [
    {
     "name": "stdout",
     "output_type": "stream",
     "text": [
      "2.0\n"
     ]
    }
   ],
   "source": [
    "result = 10/5\n",
    "print(result)"
   ]
  },
  {
   "cell_type": "markdown",
   "id": "946a394a-16f4-4499-a398-7f33b3005cb7",
   "metadata": {},
   "source": [
    "# 2\n",
    "\"%\" -: This is the modulus operator in python . It returns the remainder when one number(dividend) is divided by another number(divisor).\n",
    "Ex -:   "
   ]
  },
  {
   "cell_type": "code",
   "execution_count": 24,
   "id": "db43fabe-7e06-4e72-ba96-ff9fe4289b09",
   "metadata": {},
   "outputs": [
    {
     "name": "stdout",
     "output_type": "stream",
     "text": [
      "1\n"
     ]
    }
   ],
   "source": [
    "x = 5%2\n",
    "print(x)"
   ]
  },
  {
   "cell_type": "markdown",
   "id": "745dd82b-2b86-47bc-b585-c09419e314ff",
   "metadata": {},
   "source": [
    "# 3\n",
    "\"//\" -: This is the floor division operator in python. it performs the division between two numbers and returns the output to the nearest integer value.\n",
    "Ex -:"
   ]
  },
  {
   "cell_type": "code",
   "execution_count": 26,
   "id": "48f89baa-f33b-47b2-a7fd-13f16dd675c5",
   "metadata": {},
   "outputs": [
    {
     "name": "stdout",
     "output_type": "stream",
     "text": [
      "3\n"
     ]
    }
   ],
   "source": [
    "a = 10//3\n",
    "print(a)"
   ]
  },
  {
   "cell_type": "markdown",
   "id": "a09f12d9-5a5c-452e-8b4b-75312c9a2a93",
   "metadata": {},
   "source": [
    "# 4\n",
    "\"**\" -: This is the exponentiation operator in python . It is used to raise a number to a power.\n",
    "EX -:"
   ]
  },
  {
   "cell_type": "code",
   "execution_count": 11,
   "id": "f6a9aa4d-cef8-43f0-b38d-728411aedd2e",
   "metadata": {},
   "outputs": [
    {
     "name": "stdout",
     "output_type": "stream",
     "text": [
      "8\n"
     ]
    }
   ],
   "source": [
    "result = 2**3\n",
    "print(result)"
   ]
  },
  {
   "cell_type": "code",
   "execution_count": null,
   "id": "9a919a54-f4a1-45e5-a75a-d815dead37ce",
   "metadata": {},
   "outputs": [],
   "source": [
    "# Q 4."
   ]
  },
  {
   "cell_type": "code",
   "execution_count": 10,
   "id": "4df81ed9-bdf2-410d-bf4b-e75e1b0e6d7b",
   "metadata": {},
   "outputs": [
    {
     "name": "stdout",
     "output_type": "stream",
     "text": [
      "10\n",
      "3 <class 'int'>\n",
      "4 <class 'int'>\n",
      "5 <class 'int'>\n",
      "6 <class 'int'>\n",
      "alok <class 'str'>\n",
      "anand <class 'str'>\n",
      "akash <class 'str'>\n",
      "rahul <class 'str'>\n",
      "0 <class 'int'>\n",
      "2 <class 'int'>\n"
     ]
    }
   ],
   "source": [
    "list = [3, 4,5, 6, \"alok\" , \"anand\" , \"akash\" , \"rahul\" , 0 , 2]\n",
    "print(len(list))\n",
    "for i in list:\n",
    "    print(i , type(i))"
   ]
  },
  {
   "cell_type": "code",
   "execution_count": 12,
   "id": "898b35f2-9b04-47cc-9edb-b5343f9ec87f",
   "metadata": {},
   "outputs": [],
   "source": [
    "# Q 5"
   ]
  },
  {
   "cell_type": "code",
   "execution_count": 31,
   "id": "42384740-c088-4273-8e10-59679b54ff1c",
   "metadata": {},
   "outputs": [
    {
     "name": "stdin",
     "output_type": "stream",
     "text": [
      "Enter the number\n",
      " 100\n",
      "Enter the number\n",
      " 10\n"
     ]
    },
    {
     "name": "stdout",
     "output_type": "stream",
     "text": [
      "2\n"
     ]
    }
   ],
   "source": [
    "a= int(input(\"Enter the number\\n\"))\n",
    "b= int(input(\"Enter the number\\n\"))\n",
    "count =0\n",
    "while(a%b==0):\n",
    "    a = a//b\n",
    "    count = count+1\n",
    "    # print(count)\n",
    "\n",
    "print(count)\n",
    "\n",
    "\n"
   ]
  },
  {
   "cell_type": "code",
   "execution_count": null,
   "id": "a6259eab-31f4-48bf-9721-dbefb65be378",
   "metadata": {},
   "outputs": [],
   "source": [
    "# Q 6."
   ]
  },
  {
   "cell_type": "code",
   "execution_count": 10,
   "id": "8e5080c7-c696-4a57-bcde-179b4231433c",
   "metadata": {},
   "outputs": [
    {
     "name": "stdout",
     "output_type": "stream",
     "text": [
      "[1, 2, 3, 4, 5, 6, 7, 8, 9, 10, 11, 12, 13, 14, 15, 16, 17, 18, 19, 20, 21, 22, 23, 24, 25]\n",
      "1 This element is not divisible by 3\n",
      "2 This element is not divisible by 3\n",
      "3\n",
      "4 This element is not divisible by 3\n",
      "5 This element is not divisible by 3\n",
      "6\n",
      "7 This element is not divisible by 3\n",
      "8 This element is not divisible by 3\n",
      "9\n",
      "10 This element is not divisible by 3\n",
      "11 This element is not divisible by 3\n",
      "12\n",
      "13 This element is not divisible by 3\n",
      "14 This element is not divisible by 3\n",
      "15\n",
      "16 This element is not divisible by 3\n",
      "17 This element is not divisible by 3\n",
      "18\n",
      "19 This element is not divisible by 3\n",
      "20 This element is not divisible by 3\n",
      "21\n",
      "22 This element is not divisible by 3\n",
      "23 This element is not divisible by 3\n",
      "24\n",
      "25 This element is not divisible by 3\n"
     ]
    }
   ],
   "source": [
    "list =[1,2,3,4,5,6,7,8,9,10,11,12,13,14,15,16,17,18,19,20,21,22,23,24,25]\n",
    "print(list)\n",
    "for i in list:\n",
    "    if(i%3==0):\n",
    "        print(i)\n",
    "    else:\n",
    "        print(f\"{i} This element is not divisible by 3\")\n",
    "        \n"
   ]
  },
  {
   "cell_type": "code",
   "execution_count": 11,
   "id": "22a2d921-a03d-4985-9cef-5050d68f63b5",
   "metadata": {},
   "outputs": [],
   "source": [
    "# Q 7."
   ]
  },
  {
   "cell_type": "markdown",
   "id": "f7c102e5-973e-49cd-8698-732941307893",
   "metadata": {},
   "source": [
    "# Immutable objects -:\n",
    "immutable objects in object oriented programms are the object which can't be modified after they are created , if we try to modify them\n",
    "a new object will be created. Ex-:\n",
    "strings ,integers,tuples etc.\n",
    "# Mutable objects -:\n",
    "Mutable objects in python are the objects in object oriented programs that can be modified after they are created , they can be modified easily and object will be the same. Ex-:\n",
    "list , dictionary etc."
   ]
  },
  {
   "cell_type": "code",
   "execution_count": null,
   "id": "134568b7-841e-4ece-b73d-2f53a5493e08",
   "metadata": {},
   "outputs": [],
   "source": []
  }
 ],
 "metadata": {
  "kernelspec": {
   "display_name": "Python 3 (ipykernel)",
   "language": "python",
   "name": "python3"
  },
  "language_info": {
   "codemirror_mode": {
    "name": "ipython",
    "version": 3
   },
   "file_extension": ".py",
   "mimetype": "text/x-python",
   "name": "python",
   "nbconvert_exporter": "python",
   "pygments_lexer": "ipython3",
   "version": "3.10.8"
  }
 },
 "nbformat": 4,
 "nbformat_minor": 5
}
